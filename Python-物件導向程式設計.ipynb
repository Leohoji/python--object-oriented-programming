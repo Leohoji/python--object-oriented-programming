{
 "cells": [
  {
   "cell_type": "markdown",
   "id": "097c8888-9d84-4fd8-8931-da672546fc7a",
   "metadata": {
    "tags": []
   },
   "source": [
    "#### 學生的類別\n",
    "\n",
    "設計一個Python class 一個名為\"Student\"的類別，該類別應該包含學生的以下屬性：\n",
    "\n",
    "． 姓名\n",
    "\n",
    "． 學號\n",
    "\n",
    "． 年齡\n",
    "\n",
    "． 性別\n",
    "\n",
    "． 成績\n",
    "\n",
    "並在Student類別中實現以下function。\n",
    "\n",
    "． 建構式：__init__(self, name, student_id, age, gender): 初始化方法，用於設定學生的姓名、學號、年齡和性別。\n",
    "\n",
    "． set_grade(self, grade): 設定學生的成績。\n",
    "\n",
    "． get_grade(self): 獲取學生的成績。\n",
    "\n",
    "． display_student_info(self): 顯示學生的所有資訊。"
   ]
  },
  {
   "cell_type": "code",
   "execution_count": 1,
   "id": "46611570-fb18-449e-a34a-2efaab41b0ae",
   "metadata": {},
   "outputs": [],
   "source": [
    "class Student:\n",
    "    \n",
    "    # 建構式 (constructor)\n",
    "    def __init__(self, name, student_id, age, gender):\n",
    "        self.name = name\n",
    "        self.student_id = student_id\n",
    "        self.age = age\n",
    "        self.gender = gender\n",
    "        self.grade = '尚未設定'\n",
    "    \n",
    "    # 設定學生的成績\n",
    "    def set_grade(self, grade):\n",
    "        self.grade = float(grade)\n",
    "        print('學生: %s \\n成績設定完成' % (self.name))\n",
    "    \n",
    "    # 獲取學生的成績\n",
    "    def get_grade(self):\n",
    "        if self.grade == '尚未設定':\n",
    "            print('尚未設定學生成績')\n",
    "        else:\n",
    "            print('學生: %s 成績: %s' % (self.name, self.grade))\n",
    "    \n",
    "    #  顯示學生的所有資訊\n",
    "    def display_student_info(self):\n",
    "        print('--- 學生資訊 ---\\n姓名: %s \\n學號: %s \\n年齡: %s \\n性別: %s \\n成績: %s' % \\\n",
    "              ( self.name, self.student_id, self.age, self.gender, self.grade))"
   ]
  },
  {
   "cell_type": "markdown",
   "id": "b97fc84f-c5db-4fb6-9c90-e2e488719467",
   "metadata": {},
   "source": [
    "-  `__init__`: 輸入 name、student_id、age 以及 gender，grade 先設成 '尚未設定' 以防未設定成績就調用 `get_grade` 跟 `display_student_info`\n",
    "\n",
    "- `set_grade`: 可以輸入數字字串、整數以及浮點數形式\n",
    "\n",
    "- `get_grade`： 如未設定就顯示提是字樣，反之則顯示成績\n",
    "\n",
    "- `display_student_info`: 顯示全部的學生資訊(包含成績)"
   ]
  },
  {
   "cell_type": "code",
   "execution_count": 2,
   "id": "f914eae3-4d1f-453e-adf2-f1b15f796122",
   "metadata": {},
   "outputs": [],
   "source": [
    "leo = Student('Leo', '123', 26, 'male')"
   ]
  },
  {
   "cell_type": "code",
   "execution_count": 3,
   "id": "a78666f9-ff77-4278-8799-6772a3a3788e",
   "metadata": {},
   "outputs": [
    {
     "name": "stdout",
     "output_type": "stream",
     "text": [
      "--- 學生資訊 ---\n",
      "姓名: Leo \n",
      "學號: 123 \n",
      "年齡: 26 \n",
      "性別: male \n",
      "成績: 尚未設定\n"
     ]
    }
   ],
   "source": [
    "leo.display_student_info()"
   ]
  },
  {
   "cell_type": "code",
   "execution_count": 4,
   "id": "15e8e8b3-279b-47b1-b08a-2b18c50bf988",
   "metadata": {},
   "outputs": [
    {
     "name": "stdout",
     "output_type": "stream",
     "text": [
      "尚未設定學生成績\n"
     ]
    }
   ],
   "source": [
    "leo.get_grade()"
   ]
  },
  {
   "cell_type": "code",
   "execution_count": 5,
   "id": "184b6e60-ab17-4917-8aa3-37b304e08169",
   "metadata": {},
   "outputs": [
    {
     "name": "stdout",
     "output_type": "stream",
     "text": [
      "--- 學生資訊 ---\n",
      "姓名: Leo \n",
      "學號: 123 \n",
      "年齡: 26 \n",
      "性別: male \n",
      "成績: 尚未設定\n"
     ]
    }
   ],
   "source": [
    "leo.display_student_info()"
   ]
  },
  {
   "cell_type": "code",
   "execution_count": 6,
   "id": "25a4887a-fe31-4ebc-b40e-68a7b5f76796",
   "metadata": {},
   "outputs": [
    {
     "name": "stdout",
     "output_type": "stream",
     "text": [
      "學生: Leo \n",
      "成績設定完成\n"
     ]
    }
   ],
   "source": [
    "leo.set_grade(87.87)"
   ]
  },
  {
   "cell_type": "code",
   "execution_count": 7,
   "id": "d43c265b-88fd-433e-914e-5bfb4dc1dccb",
   "metadata": {},
   "outputs": [
    {
     "name": "stdout",
     "output_type": "stream",
     "text": [
      "學生: Leo 成績: 87.87\n"
     ]
    }
   ],
   "source": [
    "leo.get_grade()"
   ]
  },
  {
   "cell_type": "code",
   "execution_count": 8,
   "id": "78b1dab4-5b8e-427b-bf0b-7c3cb1720eac",
   "metadata": {},
   "outputs": [
    {
     "name": "stdout",
     "output_type": "stream",
     "text": [
      "--- 學生資訊 ---\n",
      "姓名: Leo \n",
      "學號: 123 \n",
      "年齡: 26 \n",
      "性別: male \n",
      "成績: 87.87\n"
     ]
    }
   ],
   "source": [
    "leo.display_student_info()"
   ]
  },
  {
   "cell_type": "code",
   "execution_count": null,
   "id": "24a808c1-8ccf-47b2-a809-3c6ae5c88263",
   "metadata": {},
   "outputs": [],
   "source": []
  }
 ],
 "metadata": {
  "kernelspec": {
   "display_name": "Python 3 (ipykernel)",
   "language": "python",
   "name": "python3"
  },
  "language_info": {
   "codemirror_mode": {
    "name": "ipython",
    "version": 3
   },
   "file_extension": ".py",
   "mimetype": "text/x-python",
   "name": "python",
   "nbconvert_exporter": "python",
   "pygments_lexer": "ipython3",
   "version": "3.10.9"
  }
 },
 "nbformat": 4,
 "nbformat_minor": 5
}
