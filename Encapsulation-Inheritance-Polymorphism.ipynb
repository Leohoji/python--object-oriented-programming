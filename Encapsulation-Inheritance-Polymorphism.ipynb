{
 "cells": [
  {
   "cell_type": "markdown",
   "id": "82819033-4d37-4883-83d1-9cbc80cf74a0",
   "metadata": {},
   "source": [
    "### Encapsulation"
   ]
  },
  {
   "cell_type": "code",
   "execution_count": 1,
   "id": "2149f576-7570-4502-bc48-cdff5b544737",
   "metadata": {},
   "outputs": [],
   "source": [
    "from datetime import datetime as dt\n",
    "\n",
    "\n",
    "class Worker: \n",
    "    def __init__(self, name: str, age: int, ID: str):\n",
    "        self.name = name\n",
    "        self._age = age\n",
    "        self.__ID = ID  # 私有屬性\n",
    "        self.attendance_record = {\"clock_in\": list(), \"clock_out\": list()}\n",
    "\n",
    "    def staff_info(self) -> dict:\n",
    "        \"\"\"\n",
    "        Display name, age, and attendance record.\n",
    "        \"\"\"\n",
    "\n",
    "        print(\"%s: %s\" % (self.name, self._age))\n",
    "\n",
    "        print(\"----- Attendence -----\")\n",
    "        for attend, records in self.attendance_record.items():\n",
    "            print(\"%s: \\n%s\" % (attend, records))\n",
    "\n",
    "        return self.attendance_record\n",
    "\n",
    "    def clock_in_and_out(self, state: str):\n",
    "        \"\"\"\n",
    "        Record current time when the user goes to work and being off work.\n",
    "        Args:\n",
    "          state (str): Attendance state, pass \"clock_in\" or \"clock_out\".\n",
    "        Return\n",
    "          A string about work attendence status.\n",
    "        \"\"\"\n",
    "\n",
    "        if not (state in self.attendance_record.keys()):\n",
    "            return \"Something wrong, please input 'clock_in' or 'clock_out'.\"\n",
    "\n",
    "        else:\n",
    "            time_now = dt.now().strftime(\"%Y-%m-%d %H:%M:%S\")\n",
    "            self.attendance_record[state].append(time_now)  # 加入出勤紀錄\n",
    "            annoucement = state.replace(\"_\", \" \").capitalize()\n",
    "\n",
    "            return \"%s: %s at %s !\" % (self.name, annoucement, time_now)\n",
    "\n",
    "    # 私有方法\n",
    "    def __my_secret(self):\n",
    "        print(\"This is my secret...\")\n",
    "\n",
    "    # 加上 Getter\n",
    "    def getID(self):\n",
    "        return self.__ID\n",
    "\n",
    "    # 加上 Setter\n",
    "    def setID(self, newID):\n",
    "        self.__ID = newID\n",
    "        return \"ID reset successfully.\""
   ]
  },
  {
   "cell_type": "code",
   "execution_count": 2,
   "id": "4b6d9331-bd5d-4d84-b728-f0cb2cc6a050",
   "metadata": {},
   "outputs": [
    {
     "name": "stdout",
     "output_type": "stream",
     "text": [
      "Mary: 25\n",
      "----- Attendence -----\n",
      "clock_in: \n",
      "[]\n",
      "clock_out: \n",
      "[]\n",
      "{'clock_in': [], 'clock_out': []}\n"
     ]
    }
   ],
   "source": [
    "mary = Worker(\"Mary\", 25, \"0123\")\n",
    "print(mary.staff_info())"
   ]
  },
  {
   "cell_type": "code",
   "execution_count": 3,
   "id": "0c24f575-fbe7-494d-9ba0-7aae8bf79d29",
   "metadata": {},
   "outputs": [
    {
     "name": "stdout",
     "output_type": "stream",
     "text": [
      "Mary\n",
      "25\n"
     ]
    }
   ],
   "source": [
    "print(mary.name)\n",
    "print(mary._age)"
   ]
  },
  {
   "cell_type": "code",
   "execution_count": 4,
   "id": "907a1287-8e93-45cd-9a4d-8e284436e6c8",
   "metadata": {},
   "outputs": [
    {
     "name": "stdout",
     "output_type": "stream",
     "text": [
      "Mary: Clock in at 2023-11-28 03:11:05 !\n"
     ]
    }
   ],
   "source": [
    "print(mary.clock_in_and_out(state=\"clock_in\"))"
   ]
  },
  {
   "cell_type": "code",
   "execution_count": 5,
   "id": "74d1f44b-f1ce-4517-b8ec-ccc46179a304",
   "metadata": {},
   "outputs": [
    {
     "name": "stdout",
     "output_type": "stream",
     "text": [
      "Mary: Clock out at 2023-11-28 03:11:06 !\n"
     ]
    }
   ],
   "source": [
    "print(mary.clock_in_and_out(state=\"clock_out\"))"
   ]
  },
  {
   "cell_type": "code",
   "execution_count": 6,
   "id": "cf119b53-16f8-4db6-bb23-15d191468e12",
   "metadata": {},
   "outputs": [
    {
     "name": "stdout",
     "output_type": "stream",
     "text": [
      "Mary: 25\n",
      "----- Attendence -----\n",
      "clock_in: \n",
      "['2023-11-28 03:11:05']\n",
      "clock_out: \n",
      "['2023-11-28 03:11:06']\n",
      "{'clock_in': ['2023-11-28 03:11:05'], 'clock_out': ['2023-11-28 03:11:06']}\n"
     ]
    }
   ],
   "source": [
    "print(mary.staff_info())"
   ]
  },
  {
   "cell_type": "code",
   "execution_count": 7,
   "id": "be6522d5-188e-4395-acc3-5fc1a06f4b9a",
   "metadata": {},
   "outputs": [
    {
     "ename": "AttributeError",
     "evalue": "'Worker' object has no attribute '__ID'",
     "output_type": "error",
     "traceback": [
      "\u001b[1;31m---------------------------------------------------------------------------\u001b[0m",
      "\u001b[1;31mAttributeError\u001b[0m                            Traceback (most recent call last)",
      "Cell \u001b[1;32mIn[7], line 1\u001b[0m\n\u001b[1;32m----> 1\u001b[0m \u001b[38;5;28mprint\u001b[39m(\u001b[43mmary\u001b[49m\u001b[38;5;241;43m.\u001b[39;49m\u001b[43m__ID\u001b[49m)\n",
      "\u001b[1;31mAttributeError\u001b[0m: 'Worker' object has no attribute '__ID'"
     ]
    }
   ],
   "source": [
    "print(mary.__ID)"
   ]
  },
  {
   "cell_type": "code",
   "execution_count": 8,
   "id": "bfcc9f76-b646-4752-ae79-e26a91269c75",
   "metadata": {},
   "outputs": [
    {
     "ename": "AttributeError",
     "evalue": "'Worker' object has no attribute '__my_secret'",
     "output_type": "error",
     "traceback": [
      "\u001b[1;31m---------------------------------------------------------------------------\u001b[0m",
      "\u001b[1;31mAttributeError\u001b[0m                            Traceback (most recent call last)",
      "Cell \u001b[1;32mIn[8], line 1\u001b[0m\n\u001b[1;32m----> 1\u001b[0m \u001b[38;5;28mprint\u001b[39m(\u001b[43mmary\u001b[49m\u001b[38;5;241;43m.\u001b[39;49m\u001b[43m__my_secret\u001b[49m())\n",
      "\u001b[1;31mAttributeError\u001b[0m: 'Worker' object has no attribute '__my_secret'"
     ]
    }
   ],
   "source": [
    "print(mary.__my_secret())"
   ]
  },
  {
   "cell_type": "code",
   "execution_count": 9,
   "id": "6fe6444f-a805-41cc-9236-74eac94c5d2b",
   "metadata": {},
   "outputs": [
    {
     "name": "stdout",
     "output_type": "stream",
     "text": [
      "ID number before resetting: 0123\n",
      "ID reset successfully.\n",
      "ID number after resetting: 3210\n"
     ]
    }
   ],
   "source": [
    "print(\"ID number before resetting: %s\" % (mary.getID()))\n",
    "print(mary.setID('3210'))\n",
    "print(\"ID number after resetting: %s\" % (mary.getID()))"
   ]
  },
  {
   "cell_type": "code",
   "execution_count": 10,
   "id": "cf063589-9633-437f-8271-ae0f5a4047cf",
   "metadata": {},
   "outputs": [],
   "source": [
    "from datetime import datetime as dt\n",
    "\n",
    "class Worker:\n",
    "    def __init__ (self, name:str, age:int, ID:str):\n",
    "        self.name = name\n",
    "        self._age = age\n",
    "        self.__ID  = ID # 私有屬性\n",
    "        self.attendance_record = {'clock_in': list(), 'clock_out': list()}\n",
    "\n",
    "    def staff_info(self) -> dict:\n",
    "      \"\"\"\n",
    "      Display name, age, and attendance record.\n",
    "      \"\"\"\n",
    "\n",
    "      print(\"%s: %s\" % (self.name, self._age))\n",
    "\n",
    "      print(\"----- Attendence -----\")\n",
    "      for attend, records in self.attendance_record.items():\n",
    "        print(\"%s: \\n%s\" % (attend, records))\n",
    "\n",
    "      return self.attendance_record\n",
    "\n",
    "    def clock_in_and_out(self, state:str):\n",
    "        \"\"\"\n",
    "        Record current time when the user goes to work and being off work.\n",
    "        Args:\n",
    "          state (str): Attendance state, pass \"clock_in\" or \"clock_out\".\n",
    "        Return\n",
    "          A string about work attendence status.\n",
    "        \"\"\"\n",
    "\n",
    "        if not (state in self.attendance_record.keys()):\n",
    "          return \"Something wrong, please input 'clock_in' or 'clock_out'.\"\n",
    "\n",
    "        else:\n",
    "          time_now = dt.now().strftime('%Y-%m-%d %H:%M:%S')\n",
    "          self.attendance_record[state].append(time_now) # 加入出勤紀錄\n",
    "          annoucement = state.replace('_', ' ').capitalize()\n",
    "\n",
    "          return '%s: %s at %s !' % (self.name, annoucement, time_now)"
   ]
  },
  {
   "cell_type": "code",
   "execution_count": 11,
   "id": "3118e923-8534-4dfc-9ffe-d8f5e8d19575",
   "metadata": {},
   "outputs": [],
   "source": [
    "from datetime import datetime as dt\n",
    "\n",
    "name = 'Mary'\n",
    "age = 25\n",
    "ID = '0123'\n",
    "attendance_record = {'clock_in': list(), 'clock_out': list()}\n",
    "\n",
    "def staff_info(name:str, age:int, attendance_record:dict):\n",
    "  \"\"\"\n",
    "  Display name, age, and attendance record.\n",
    "\n",
    "  Args:\n",
    "    name: Staff name.\n",
    "    age: Staff age.\n",
    "    attendance_record: Attendance record about staff.\n",
    "  \"\"\"\n",
    "  print(\"%s: %s\" % (name, age))\n",
    "\n",
    "  print(\"----- Attendence -----\")\n",
    "  for attend, records in attendance_record.items():\n",
    "    print(\"%s: \\n%s\" % (attend, records))\n",
    "\n",
    "\n",
    "def clock_in_and_out(name, state:str) -> str:\n",
    "  \"\"\"\n",
    "  Record current time when the user goes to work and being off work.\n",
    "\n",
    "  Args:\n",
    "    name: Name of employee.\n",
    "    state (str): Attendance state, pass \"clock_in\" or \"clock_out.\n",
    "\n",
    "  Return\n",
    "    A string about work attendence status.\n",
    "  \"\"\"\n",
    "\n",
    "\n",
    "  if not (state in attendance_record.keys()):\n",
    "    return \"Something wrong, please input 'clock_in' or 'clock_out'.\"\n",
    "  else:\n",
    "    time_now = dt.now().strftime('%Y-%m-%d %H:%M:%S')\n",
    "    attendance_record[state].append(time_now) # 加入出勤紀錄\n",
    "    annoucement = state.replace('_', ' ').capitalize()\n",
    "\n",
    "    return '%s: %s at %s !' % (name, annoucement, time_now)"
   ]
  },
  {
   "cell_type": "markdown",
   "id": "18d7784a-04f9-4ebf-8db7-2b455c16d4a2",
   "metadata": {},
   "source": [
    "### Inheritance"
   ]
  },
  {
   "cell_type": "code",
   "execution_count": 12,
   "id": "28cc45f7-2edb-4b96-b5cf-022ef3f7dbb7",
   "metadata": {},
   "outputs": [],
   "source": [
    "# Class 1\n",
    "class Person:\n",
    "    def __init__(self, name, age, ID):\n",
    "        self.name = name\n",
    "        self.age = age\n",
    "        self.__ID = ID\n",
    "\n",
    "    def speak(self, sentence):\n",
    "        return self.name + \" says \" + sentence\n",
    "\n",
    "# Class 2\n",
    "class Athlete:\n",
    "\n",
    "    # 與 Person 重疊的程式碼\n",
    "    def __init__(self, name, age, ID):\n",
    "        self.name = name\n",
    "        self.age = age\n",
    "        self.__ID = ID\n",
    "\n",
    "    # 與 Person 重疊的程式碼\n",
    "    def speak(self, sentence):\n",
    "        return self.name + \" says \" + sentence\n",
    "\n",
    "    def workout(self):\n",
    "        return '%s goes to the gym to exercise twice a week.' % (self.name)\n",
    "\n",
    "    def running(self):\n",
    "        return '%s goes running three times a week.' % (self.name)"
   ]
  },
  {
   "cell_type": "code",
   "execution_count": 13,
   "id": "f67a6778-35a3-46f5-a234-e7e25068aa20",
   "metadata": {},
   "outputs": [],
   "source": [
    "# 被繼承的類別 -> 父類別\n",
    "class Person:\n",
    "    def __init__(self, name, age, ID):\n",
    "        self.name = name\n",
    "        self.age = age\n",
    "        self.__ID = ID\n",
    "\n",
    "    def speak(self, sentence):\n",
    "        return self.name + \" says \" + sentence\n",
    "\n",
    "# 繼承 Person 的類別 -> 子類別\n",
    "class Athlete(Person):\n",
    "    def workout(self):\n",
    "        return '%s goes to the gym to exercise twice a week.' % (self.name)\n",
    "\n",
    "    def running(self):\n",
    "        return '%s goes running three times a week.' % (self.name)"
   ]
  },
  {
   "cell_type": "code",
   "execution_count": 14,
   "id": "98d0cff5-6616-46ff-adb2-1560f71b32d3",
   "metadata": {},
   "outputs": [
    {
     "name": "stdout",
     "output_type": "stream",
     "text": [
      "James\n",
      "23\n",
      "James says Hello World\n"
     ]
    }
   ],
   "source": [
    "james = Athlete('James', 23, '0123') # 產生物件\n",
    "print(james.name) # name 屬性\n",
    "print(james.age) # age 屬性\n",
    "print(james.speak('Hello World'))\n"
   ]
  },
  {
   "cell_type": "code",
   "execution_count": 15,
   "id": "28b36035-e6c3-4286-9502-dbd740e1141b",
   "metadata": {},
   "outputs": [
    {
     "name": "stdout",
     "output_type": "stream",
     "text": [
      "James goes to the gym to exercise twice a week.\n",
      "James goes running three times a week.\n"
     ]
    }
   ],
   "source": [
    "print(james.workout()) # Athlete 的方法\n",
    "print(james.running()) # Athlete 的方法"
   ]
  },
  {
   "cell_type": "code",
   "execution_count": 16,
   "id": "e37e355b-b8a2-4871-9da4-3f12e8b3deed",
   "metadata": {},
   "outputs": [
    {
     "name": "stdout",
     "output_type": "stream",
     "text": [
      "2199584382768\n",
      "2199584382768\n",
      "True\n"
     ]
    }
   ],
   "source": [
    "print(id(Person.speak))\n",
    "print(id(Athlete.speak))\n",
    "print(id(Person.speak) == id(Athlete.speak))"
   ]
  },
  {
   "cell_type": "code",
   "execution_count": 17,
   "id": "de2afea9-e0fb-46c6-a0db-6f82ec96f2f8",
   "metadata": {},
   "outputs": [],
   "source": [
    "# 父類別\n",
    "class Person:\n",
    "    def __init__(self, name, age, ID):\n",
    "        self.name = name\n",
    "        self.age = age\n",
    "        self.__ID = ID\n",
    "\n",
    "    def speak(self, sentence):\n",
    "        return self.name + \" says \" + sentence\n",
    "\n",
    "# 繼承 Person 的類別，\n",
    "class Athlete(Person):\n",
    "    def workout(self):\n",
    "        return '%s goes to the gym to exercise twice a week.' % (self.name)\n",
    "\n",
    "    def running(self):\n",
    "        return '%s goes running three times a week.' % (self.name)\n",
    "\n",
    "# 繼承 Athlete 的類別\n",
    "class Champion(Athlete):\n",
    "    def get_trophy(self):\n",
    "        return '%s got the champion!' % (self.name)"
   ]
  },
  {
   "cell_type": "code",
   "execution_count": 18,
   "id": "bf33123d-a021-4675-b79d-a5bfa847d77e",
   "metadata": {},
   "outputs": [
    {
     "name": "stdout",
     "output_type": "stream",
     "text": [
      "Olina says Hello World\n",
      "Olina goes to the gym to exercise twice a week.\n",
      "Olina goes running three times a week.\n",
      "Olina got the champion!\n"
     ]
    }
   ],
   "source": [
    "olina = Champion('Olina', 20, '3210')\n",
    "print(olina.speak('Hello World'))\n",
    "print(olina.workout())\n",
    "print(olina.running())\n",
    "print(olina.get_trophy())"
   ]
  },
  {
   "cell_type": "markdown",
   "id": "a1f5bab7-c4ae-42ab-acf1-9baa9a1303e9",
   "metadata": {},
   "source": [
    "#### Override"
   ]
  },
  {
   "cell_type": "code",
   "execution_count": 19,
   "id": "73998456-3208-4b23-afd8-1e86a956870c",
   "metadata": {},
   "outputs": [],
   "source": [
    "# 繼承 Person 的類別 -> 子類別\n",
    "class Athlete(Person): \n",
    "    # 覆寫建構子\n",
    "    def __init__(self, name, age, ID, height):\n",
    "      super().__init__(name, age, ID)\n",
    "      self.height = height\n",
    "\n",
    "    # 覆寫 speak 方法\n",
    "    def speak(self, sentence):\n",
    "      print(super().speak(sentence))\n",
    "      return \"Here is subclass...\"\n",
    "      \n",
    "    def workout(self):\n",
    "        return '%s goes to the gym to exercise twice a week.' % (self.name)\n",
    "\n",
    "    def running(self):\n",
    "        return '%s goes running three times a week.' % (self.name)"
   ]
  },
  {
   "cell_type": "code",
   "execution_count": 20,
   "id": "37050b51-312b-42fc-bc93-c1f99ba026e7",
   "metadata": {},
   "outputs": [
    {
     "name": "stdout",
     "output_type": "stream",
     "text": [
      "James\n",
      "23\n",
      "170\n"
     ]
    }
   ],
   "source": [
    "james = Athlete('James', 23, '0123', 170)\n",
    "print(james.name) # 繼承屬性\n",
    "print(james.age) # 繼承屬性\n",
    "print(james.height) # 新增屬性"
   ]
  },
  {
   "cell_type": "code",
   "execution_count": 21,
   "id": "4cea9c06-ab7f-4ee9-87e4-5aec55d50825",
   "metadata": {},
   "outputs": [
    {
     "name": "stdout",
     "output_type": "stream",
     "text": [
      "James says Hello World Again\n",
      "Here is subclass...\n"
     ]
    }
   ],
   "source": [
    "print(james.speak(\"Hello World Again\"))"
   ]
  },
  {
   "cell_type": "code",
   "execution_count": 22,
   "id": "d2ebca03-aa6d-475a-9f7a-5eed34c6fc70",
   "metadata": {},
   "outputs": [],
   "source": [
    "# 被繼承的類別 -> 父類別\n",
    "class Person:\n",
    "    def __init__(self, name, age, ID):\n",
    "        self.name = name\n",
    "        self.age = age\n",
    "        self.__ID = ID\n",
    "\n",
    "    def speak(self, sentence):\n",
    "        return self.name + \" says \" + sentence\n",
    "\n",
    "\n",
    "# 繼承 Person 的類別 -> 子類別\n",
    "class Athlete(Person):\n",
    "    def __init__(self, name, age, ID, height):\n",
    "        super().__init__(name, age, ID)\n",
    "        self.height = height\n",
    "\n",
    "    def speak(self, sentence=\"Hello World\"): # default value\n",
    "        print(super().speak(sentence))\n",
    "        return \"Here is subclass...\"\n",
    "\n",
    "    def workout(self):\n",
    "        return \"%s goes to the gym to exercise twice a week.\" % (self.name)\n",
    "\n",
    "    def running(self):\n",
    "        return \"%s goes running three times a week.\" % (self.name)"
   ]
  },
  {
   "cell_type": "code",
   "execution_count": 23,
   "id": "3e3574f1-af4a-4002-95c2-c7809587e507",
   "metadata": {},
   "outputs": [],
   "source": [
    "class Father:\n",
    "    def say(self):\n",
    "        return 'I am a doctor.'\n",
    "\n",
    "class Mother:\n",
    "    def say(self):\n",
    "        return 'I am a lawyer.'\n",
    "\n",
    "class Child(Mother, Father): # 多重繼承\n",
    "    pass # 3"
   ]
  },
  {
   "cell_type": "code",
   "execution_count": 24,
   "id": "c6bbd309-480e-4c6b-93f5-ea2b63972a68",
   "metadata": {},
   "outputs": [
    {
     "name": "stdout",
     "output_type": "stream",
     "text": [
      "I am a lawyer.\n"
     ]
    }
   ],
   "source": [
    "mike = Child()\n",
    "print(mike.say())"
   ]
  },
  {
   "cell_type": "code",
   "execution_count": 25,
   "id": "50740d0c-6f87-4548-aa79-81a0839d128a",
   "metadata": {},
   "outputs": [],
   "source": [
    "class Father:\n",
    "    def say(self):\n",
    "        return 'I am a doctor.'\n",
    "\n",
    "class Mother:\n",
    "    def say(self):\n",
    "        return 'I am a lawyer.'\n",
    "\n",
    "class Child(Father, Mother): # 多重繼承，互換位子\n",
    "    pass\n"
   ]
  },
  {
   "cell_type": "code",
   "execution_count": 26,
   "id": "edbf26b2-189f-4a5d-8ab0-6eddf60b34fd",
   "metadata": {},
   "outputs": [
    {
     "name": "stdout",
     "output_type": "stream",
     "text": [
      "I am a doctor.\n"
     ]
    }
   ],
   "source": [
    "mike = Child()\n",
    "print(mike.say())"
   ]
  },
  {
   "cell_type": "markdown",
   "id": "2e565e31-4db3-4aeb-b0ea-ba7ec0675a47",
   "metadata": {},
   "source": [
    "### Polymorphism"
   ]
  },
  {
   "cell_type": "code",
   "execution_count": 27,
   "id": "b55a78e3-85d6-4821-9f1a-e62298e3fb91",
   "metadata": {},
   "outputs": [
    {
     "name": "stdout",
     "output_type": "stream",
     "text": [
      "Teacher likes English.\n",
      "Leo likes Basketball.\n",
      "Noah likes Tennis\n"
     ]
    }
   ],
   "source": [
    "class Teacher:\n",
    "    def develope_habbit(self): \n",
    "        return \"Teacher likes English.\"\n",
    "\n",
    "\n",
    "class Leo:\n",
    "    def develope_habbit(self): \n",
    "        return \"Leo likes Basketball.\"\n",
    "\n",
    "\n",
    "class Noah:\n",
    "    def develope_habbit(self):\n",
    "        return \"Noah likes Tennis\"\n",
    "\n",
    "\n",
    "x1 = Teacher()\n",
    "x2 = Leo()\n",
    "x3 = Noah()\n",
    "\n",
    "print(x1.develope_habbit())  # 呼叫 Teacher 的 develope_habbit()\n",
    "print(x2.develope_habbit())  # 呼叫 Leo 的同名方法\n",
    "print(x3.develope_habbit())  # 呼叫 Noah 的同名方法"
   ]
  },
  {
   "cell_type": "code",
   "execution_count": 28,
   "id": "f981c68d-d5b8-452f-a8cc-c7ba0b950a9a",
   "metadata": {},
   "outputs": [
    {
     "name": "stdout",
     "output_type": "stream",
     "text": [
      "2199584381760\n",
      "2199584386368\n",
      "2199584387808\n"
     ]
    }
   ],
   "source": [
    "print(id(Teacher.develope_habbit))\n",
    "print(id(Leo.develope_habbit))\n",
    "print(id(Noah.develope_habbit))"
   ]
  },
  {
   "cell_type": "markdown",
   "id": "733367a0-d97d-488c-997e-610c64c160aa",
   "metadata": {},
   "source": [
    "#### Dependency injection"
   ]
  },
  {
   "cell_type": "code",
   "execution_count": 29,
   "id": "9bb35d62-0991-4ec1-9eba-45b299cd7caa",
   "metadata": {},
   "outputs": [
    {
     "name": "stdout",
     "output_type": "stream",
     "text": [
      "My name is Leo and basketball is my hobby.\n",
      "Leo play basketball.\n",
      "Leo changes hobby to tennis\n",
      "Leo play tennis.\n",
      "Leo changes hobby to tennis and bioscience\n",
      "Leo is a biological researcher likes playing tennis.\n"
     ]
    }
   ],
   "source": [
    "# 1. Set sports category\n",
    "class Basketball:\n",
    "    name = \"basketball\"\n",
    "\n",
    "    def play(self):\n",
    "        print(\"play basketball.\")\n",
    "\n",
    "\n",
    "class Tennis:\n",
    "    name = \"tennis\"\n",
    "\n",
    "    def play(self):\n",
    "        print(\"play tennis.\")\n",
    "\n",
    "\n",
    "class Tennis_and_Bioscience:\n",
    "    name = \"tennis and bioscience\"\n",
    "\n",
    "    def play(self):\n",
    "        print(\"is a biological researcher likes playing tennis.\")\n",
    "\n",
    "\n",
    "class Student:\n",
    "    def __init__(self, name, hobby):  # 2 Create class\n",
    "        self.name = name\n",
    "        self.hobby = hobby\n",
    "        print(\"My name is %s and %s is my hobby.\" % (self.name, self.hobby.name))\n",
    "\n",
    "    def change_hobby(self, hobby):\n",
    "        self.hobby = hobby  # 3. Introduce a dependency injection to change hobby\n",
    "        print(\"%s changes hobby to %s\" % (self.name, self.hobby.name))\n",
    "\n",
    "    def play(self):\n",
    "        print(self.name, end=\" \")\n",
    "        self.hobby.play()  # 4. Call the method with the same name\n",
    "\n",
    "\n",
    "Leo = Student(\"Leo\", Basketball())\n",
    "Leo.play()\n",
    "Leo.change_hobby(Tennis())\n",
    "Leo.play()\n",
    "Leo.change_hobby(Tennis_and_Bioscience())\n",
    "Leo.play()"
   ]
  },
  {
   "cell_type": "code",
   "execution_count": 30,
   "id": "a3aa6273-cc33-40aa-9098-e6fe4dc458c5",
   "metadata": {},
   "outputs": [],
   "source": [
    "class Student_1:\n",
    "    def __init__(self, name, hobby):\n",
    "        self.name = name\n",
    "        self.hobby = hobby\n",
    "\n",
    "    def play(self):\n",
    "        print(\"%s likes to play %s\" % (self.name, self.hobby))"
   ]
  },
  {
   "cell_type": "code",
   "execution_count": 31,
   "id": "9d15ad0f-af22-4731-a90e-3596344a681d",
   "metadata": {},
   "outputs": [
    {
     "name": "stdout",
     "output_type": "stream",
     "text": [
      "Leo likes to play basketball\n",
      "Leo likes to play tennis\n"
     ]
    }
   ],
   "source": [
    "Leo = Student_1(\"Leo\", \"basketball\")\n",
    "Leo.play()\n",
    "Leo = Student_1(\"Leo\", \"tennis\")\n",
    "Leo.play()"
   ]
  },
  {
   "cell_type": "code",
   "execution_count": 32,
   "id": "9efa1aaa-fd01-43db-9301-7d76df36e403",
   "metadata": {},
   "outputs": [],
   "source": [
    "class Student_2:\n",
    "    def __init__(self, name, hobby, career):\n",
    "        self.name = name\n",
    "        self.hobby = hobby\n",
    "        self.career = career\n",
    "\n",
    "    def play(self):\n",
    "        print(\"%s likes to play %s.\" % (self.name, self.hobby))\n",
    "\n",
    "    def job(self):\n",
    "        print(\"%s is a(n) %s.\" % (self.name, self.career))"
   ]
  },
  {
   "cell_type": "code",
   "execution_count": 33,
   "id": "db6ddc94-92ea-4c86-8084-e42e73e4ea8f",
   "metadata": {},
   "outputs": [
    {
     "name": "stdout",
     "output_type": "stream",
     "text": [
      "Leo likes to play tennis.\n",
      "Leo is a(n) biological researcher.\n"
     ]
    }
   ],
   "source": [
    "Leo = Student_2(\"Leo\", \"tennis\", \"biological researcher\")\n",
    "Leo.play()\n",
    "Leo.job()"
   ]
  },
  {
   "cell_type": "markdown",
   "id": "e457c8f9-fe02-4225-9d3f-ff2433289113",
   "metadata": {},
   "source": [
    "#### Abstract class"
   ]
  },
  {
   "cell_type": "code",
   "execution_count": 34,
   "id": "07b659f6-64f1-442c-9c46-9c854b946b43",
   "metadata": {},
   "outputs": [
    {
     "name": "stdout",
     "output_type": "stream",
     "text": [
      "I have 5000 dollars\n",
      "I have 2000 dollars\n"
     ]
    }
   ],
   "source": [
    "# Father class\n",
    "class Person:\n",
    "    def __init__(self, name, age):\n",
    "        self.name = name\n",
    "        self.age = age\n",
    "\n",
    "    def speak(self, sentence):\n",
    "        return self.name + \" says \" + sentence\n",
    "\n",
    "    # 1. Set abstract method\n",
    "    def getMoney(self):\n",
    "        raise NotImplementedError\n",
    "\n",
    "\n",
    "# Child class-Worker\n",
    "class Worker(Person):\n",
    "    def __init__(self, name, age, ID):\n",
    "        super().__init__(name, age)\n",
    "        self.__ID = ID\n",
    "\n",
    "    # 2. Abstract method\n",
    "    def getMoney(self):\n",
    "        return \"I have 5000 dollars\"\n",
    "\n",
    "\n",
    "# Child class-Athlete\n",
    "class Athlete(Person):\n",
    "    def workout(self):\n",
    "        return \"%s goes to the gym to exercise twice a week.\" % (self.name)\n",
    "\n",
    "    # 2. Abstract method\n",
    "    def getMoney(self):\n",
    "        return \"I have 2000 dollars\"\n",
    "\n",
    "\n",
    "nate = Worker(\"Nate\", 20, \"0123\")  # Initiate Worker object\n",
    "james = Athlete(\"James\", 23)  # Initiate Athlete object\n",
    "\n",
    "# 3\n",
    "print(nate.getMoney())  # call getMoney() method\n",
    "print(james.getMoney())  # call getMoney() method\n",
    "\n",
    "\n",
    "# ------ output ------\n",
    "# 'I have 2000 dollars'\n",
    "# 'I have 5000 dollars'"
   ]
  }
 ],
 "metadata": {
  "kernelspec": {
   "display_name": "Python 3 (ipykernel)",
   "language": "python",
   "name": "python3"
  },
  "language_info": {
   "codemirror_mode": {
    "name": "ipython",
    "version": 3
   },
   "file_extension": ".py",
   "mimetype": "text/x-python",
   "name": "python",
   "nbconvert_exporter": "python",
   "pygments_lexer": "ipython3",
   "version": "3.10.13"
  }
 },
 "nbformat": 4,
 "nbformat_minor": 5
}
